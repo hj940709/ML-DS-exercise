{
 "cells": [
  {
   "cell_type": "code",
   "execution_count": 3,
   "metadata": {},
   "outputs": [],
   "source": [
    "import thulac\n",
    "from gensim.models import KeyedVectors"
   ]
  },
  {
   "cell_type": "code",
   "execution_count": 10,
   "metadata": {},
   "outputs": [
    {
     "name": "stdout",
     "output_type": "stream",
     "text": [
      "Loading Chinese Embedding Matrix\n"
     ]
    },
    {
     "ename": "UnicodeDecodeError",
     "evalue": "'utf-8' codec can't decode byte 0x80 in position 0: invalid start byte",
     "output_type": "error",
     "traceback": [
      "\u001b[0;31m---------------------------------------------------------------------------\u001b[0m",
      "\u001b[0;31mUnicodeDecodeError\u001b[0m                        Traceback (most recent call last)",
      "\u001b[0;32m<ipython-input-10-5c874a3f9da9>\u001b[0m in \u001b[0;36m<module>\u001b[0;34m()\u001b[0m\n\u001b[1;32m      1\u001b[0m \u001b[0mprint\u001b[0m\u001b[0;34m(\u001b[0m\u001b[0;34m'Loading Chinese Embedding Matrix'\u001b[0m\u001b[0;34m)\u001b[0m\u001b[0;34m\u001b[0m\u001b[0m\n\u001b[0;32m----> 2\u001b[0;31m \u001b[0mch_matrix\u001b[0m \u001b[0;34m=\u001b[0m \u001b[0mKeyedVectors\u001b[0m\u001b[0;34m.\u001b[0m\u001b[0mload_word2vec_format\u001b[0m\u001b[0;34m(\u001b[0m\u001b[0;34m'zh.bin'\u001b[0m\u001b[0;34m,\u001b[0m \u001b[0mbinary\u001b[0m\u001b[0;34m=\u001b[0m\u001b[0;32mFalse\u001b[0m\u001b[0;34m)\u001b[0m\u001b[0;34m\u001b[0m\u001b[0m\n\u001b[0m",
      "\u001b[0;32m/opt/conda/lib/python3.6/site-packages/gensim/models/keyedvectors.py\u001b[0m in \u001b[0;36mload_word2vec_format\u001b[0;34m(cls, fname, fvocab, binary, encoding, unicode_errors, limit, datatype)\u001b[0m\n\u001b[1;32m   1117\u001b[0m         return _load_word2vec_format(\n\u001b[1;32m   1118\u001b[0m             \u001b[0mWord2VecKeyedVectors\u001b[0m\u001b[0;34m,\u001b[0m \u001b[0mfname\u001b[0m\u001b[0;34m,\u001b[0m \u001b[0mfvocab\u001b[0m\u001b[0;34m=\u001b[0m\u001b[0mfvocab\u001b[0m\u001b[0;34m,\u001b[0m \u001b[0mbinary\u001b[0m\u001b[0;34m=\u001b[0m\u001b[0mbinary\u001b[0m\u001b[0;34m,\u001b[0m \u001b[0mencoding\u001b[0m\u001b[0;34m=\u001b[0m\u001b[0mencoding\u001b[0m\u001b[0;34m,\u001b[0m \u001b[0municode_errors\u001b[0m\u001b[0;34m=\u001b[0m\u001b[0municode_errors\u001b[0m\u001b[0;34m,\u001b[0m\u001b[0;34m\u001b[0m\u001b[0m\n\u001b[0;32m-> 1119\u001b[0;31m             limit=limit, datatype=datatype)\n\u001b[0m\u001b[1;32m   1120\u001b[0m \u001b[0;34m\u001b[0m\u001b[0m\n\u001b[1;32m   1121\u001b[0m     \u001b[0;32mdef\u001b[0m \u001b[0mget_keras_embedding\u001b[0m\u001b[0;34m(\u001b[0m\u001b[0mself\u001b[0m\u001b[0;34m,\u001b[0m \u001b[0mtrain_embeddings\u001b[0m\u001b[0;34m=\u001b[0m\u001b[0;32mFalse\u001b[0m\u001b[0;34m)\u001b[0m\u001b[0;34m:\u001b[0m\u001b[0;34m\u001b[0m\u001b[0m\n",
      "\u001b[0;32m/opt/conda/lib/python3.6/site-packages/gensim/models/utils_any2vec.py\u001b[0m in \u001b[0;36m_load_word2vec_format\u001b[0;34m(cls, fname, fvocab, binary, encoding, unicode_errors, limit, datatype)\u001b[0m\n\u001b[1;32m    172\u001b[0m     \u001b[0mlogger\u001b[0m\u001b[0;34m.\u001b[0m\u001b[0minfo\u001b[0m\u001b[0;34m(\u001b[0m\u001b[0;34m\"loading projection weights from %s\"\u001b[0m\u001b[0;34m,\u001b[0m \u001b[0mfname\u001b[0m\u001b[0;34m)\u001b[0m\u001b[0;34m\u001b[0m\u001b[0m\n\u001b[1;32m    173\u001b[0m     \u001b[0;32mwith\u001b[0m \u001b[0mutils\u001b[0m\u001b[0;34m.\u001b[0m\u001b[0msmart_open\u001b[0m\u001b[0;34m(\u001b[0m\u001b[0mfname\u001b[0m\u001b[0;34m)\u001b[0m \u001b[0;32mas\u001b[0m \u001b[0mfin\u001b[0m\u001b[0;34m:\u001b[0m\u001b[0;34m\u001b[0m\u001b[0m\n\u001b[0;32m--> 174\u001b[0;31m         \u001b[0mheader\u001b[0m \u001b[0;34m=\u001b[0m \u001b[0mutils\u001b[0m\u001b[0;34m.\u001b[0m\u001b[0mto_unicode\u001b[0m\u001b[0;34m(\u001b[0m\u001b[0mfin\u001b[0m\u001b[0;34m.\u001b[0m\u001b[0mreadline\u001b[0m\u001b[0;34m(\u001b[0m\u001b[0;34m)\u001b[0m\u001b[0;34m,\u001b[0m \u001b[0mencoding\u001b[0m\u001b[0;34m=\u001b[0m\u001b[0mencoding\u001b[0m\u001b[0;34m)\u001b[0m\u001b[0;34m\u001b[0m\u001b[0m\n\u001b[0m\u001b[1;32m    175\u001b[0m         \u001b[0mvocab_size\u001b[0m\u001b[0;34m,\u001b[0m \u001b[0mvector_size\u001b[0m \u001b[0;34m=\u001b[0m \u001b[0;34m(\u001b[0m\u001b[0mint\u001b[0m\u001b[0;34m(\u001b[0m\u001b[0mx\u001b[0m\u001b[0;34m)\u001b[0m \u001b[0;32mfor\u001b[0m \u001b[0mx\u001b[0m \u001b[0;32min\u001b[0m \u001b[0mheader\u001b[0m\u001b[0;34m.\u001b[0m\u001b[0msplit\u001b[0m\u001b[0;34m(\u001b[0m\u001b[0;34m)\u001b[0m\u001b[0;34m)\u001b[0m  \u001b[0;31m# throws for invalid file format\u001b[0m\u001b[0;34m\u001b[0m\u001b[0m\n\u001b[1;32m    176\u001b[0m         \u001b[0;32mif\u001b[0m \u001b[0mlimit\u001b[0m\u001b[0;34m:\u001b[0m\u001b[0;34m\u001b[0m\u001b[0m\n",
      "\u001b[0;32m/opt/conda/lib/python3.6/site-packages/gensim/utils.py\u001b[0m in \u001b[0;36many2unicode\u001b[0;34m(text, encoding, errors)\u001b[0m\n\u001b[1;32m    357\u001b[0m     \u001b[0;32mif\u001b[0m \u001b[0misinstance\u001b[0m\u001b[0;34m(\u001b[0m\u001b[0mtext\u001b[0m\u001b[0;34m,\u001b[0m \u001b[0municode\u001b[0m\u001b[0;34m)\u001b[0m\u001b[0;34m:\u001b[0m\u001b[0;34m\u001b[0m\u001b[0m\n\u001b[1;32m    358\u001b[0m         \u001b[0;32mreturn\u001b[0m \u001b[0mtext\u001b[0m\u001b[0;34m\u001b[0m\u001b[0m\n\u001b[0;32m--> 359\u001b[0;31m     \u001b[0;32mreturn\u001b[0m \u001b[0municode\u001b[0m\u001b[0;34m(\u001b[0m\u001b[0mtext\u001b[0m\u001b[0;34m,\u001b[0m \u001b[0mencoding\u001b[0m\u001b[0;34m,\u001b[0m \u001b[0merrors\u001b[0m\u001b[0;34m=\u001b[0m\u001b[0merrors\u001b[0m\u001b[0;34m)\u001b[0m\u001b[0;34m\u001b[0m\u001b[0m\n\u001b[0m\u001b[1;32m    360\u001b[0m \u001b[0;34m\u001b[0m\u001b[0m\n\u001b[1;32m    361\u001b[0m \u001b[0;34m\u001b[0m\u001b[0m\n",
      "\u001b[0;31mUnicodeDecodeError\u001b[0m: 'utf-8' codec can't decode byte 0x80 in position 0: invalid start byte"
     ]
    }
   ],
   "source": [
    "print('Loading Chinese Embedding Matrix')\n",
    "#ch_matrix = KeyedVectors.load_word2vec_format('zh.bin', binary=False)"
   ]
  },
  {
   "cell_type": "code",
   "execution_count": 9,
   "metadata": {},
   "outputs": [
    {
     "data": {
      "text/plain": [
       "0.066785270711377631"
      ]
     },
     "execution_count": 9,
     "metadata": {},
     "output_type": "execute_result"
    }
   ],
   "source": [
    "ch_matrix.distance('女孩','狗')"
   ]
  },
  {
   "cell_type": "code",
   "execution_count": 14,
   "metadata": {},
   "outputs": [
    {
     "name": "stdout",
     "output_type": "stream",
     "text": [
      "2016年，50多岁的内蒙古农民王某揣着500万的拆迁款，想存进中国银行。但没想到，却在穿着银行服装的工作人员及银行行长的言语及利益引导下，买了一款银行的“理财产品”，工作人员承诺这款产品“没有任何风险，年底肯定能拿到27.5万元的利息”。可事后，王某发现，他买的根本不是中国银行的产品，而是一分阳光人寿保险公司的商业保险。按照保险合同，他要活到100周岁才能取回本金。\n",
      "发现被骗后，王某登上保险公司和银行楼顶以命维权。最终，银行和保险公司心不甘情不愿地作出妥协，由保险公司返还500万元本金和27.5万元利息。但要求王某撤回对银行、保险公司的投诉。银行负责人还很不服，向媒体表示：王某“以命维权”的方式是在诈骗。\n",
      "类似的事情还有很多——银行里的业务人员利用模糊的语言，暗示其销售的保险产品和银行普通理财产品相同，可以随时支取，并且隐瞒提前支取所需承担的责任和损失。\n",
      "2009年，邯郸市赵先生在工商银行某营业网点办理定期存款，直到一年后才知道，当时的存款居然是以保险的名义办理的，每年都需要交3000，还必须存够10年。若中途退保取钱，将遭受较大损失，连本金都保不住。\n"
     ]
    }
   ],
   "source": [
    "text='2016年，50多岁的内蒙古农民王某揣着500万的拆迁款，想存进中国银行。但没想到，却在穿着银行服装的工作人员及银行行长的言语及利益引导下，买了一款银行的“理财产品”，工作人员承诺这款产品“没有任何风险，年底肯定能拿到27.5万元的利息”。可事后，王某发现，他买的根本不是中国银行的产品，而是一分阳光人寿保险公司的商业保险。按照保险合同，他要活到100周岁才能取回本金。\\n发现被骗后，王某登上保险公司和银行楼顶以命维权。最终，银行和保险公司心不甘情不愿地作出妥协，由保险公司返还500万元本金和27.5万元利息。但要求王某撤回对银行、保险公司的投诉。银行负责人还很不服，向媒体表示：王某“以命维权”的方式是在诈骗。\\n类似的事情还有很多——银行里的业务人员利用模糊的语言，暗示其销售的保险产品和银行普通理财产品相同，可以随时支取，并且隐瞒提前支取所需承担的责任和损失。\\n2009年，邯郸市赵先生在工商银行某营业网点办理定期存款，直到一年后才知道，当时的存款居然是以保险的名义办理的，每年都需要交3000，还必须存够10年。若中途退保取钱，将遭受较大损失，连本金都保不住。'\n",
    "print(text)"
   ]
  },
  {
   "cell_type": "code",
   "execution_count": 16,
   "metadata": {},
   "outputs": [
    {
     "name": "stdout",
     "output_type": "stream",
     "text": [
      "Model loaded succeed\n",
      "[['2016年', 't'], ['，', 'w'], ['50', 'm'], ['多', 'm'], ['岁', 'q'], ['的', 'u'], ['内蒙古', 'ns'], ['农民', 'n'], ['王某', 'np'], ['揣', 'v'], ['着', 'u'], ['500万', 'm'], ['的', 'u'], ['拆迁款', 'n'], ['，', 'w'], ['想', 'v'], ['存', 'v'], ['进', 'v'], ['中国银行', 'ni'], ['。', 'w'], ['但', 'c'], ['没', 'd'], ['想到', 'v'], ['，', 'w'], ['却', 'd'], ['在', 'p'], ['穿', 'v'], ['着', 'u'], ['银行', 'n'], ['服装', 'n'], ['的', 'u'], ['工作', 'v'], ['人员', 'n'], ['及', 'c'], ['银行', 'n'], ['行长', 'n'], ['的', 'u'], ['言语', 'n'], ['及', 'c'], ['利益', 'n'], ['引导', 'v'], ['下', 'f'], ['，', 'w'], ['买', 'v'], ['了', 'u'], ['一', 'm'], ['款', 'q'], ['银行', 'n'], ['的', 'u'], ['“', 'w'], ['理财', 'v'], ['产品', 'n'], ['”', 'w'], ['，', 'w'], ['工作', 'v'], ['人员', 'n'], ['承诺', 'v'], ['这', 'r'], ['款', 'q'], ['产品', 'n'], ['“', 'w'], ['没有', 'v'], ['任何', 'r'], ['风险', 'n'], ['，', 'w'], ['年底', 't'], ['肯定', 'd'], ['能', 'v'], ['拿', 'v'], ['到', 'v'], ['27', 'm'], ['.', 'w'], ['5万', 'm'], ['元', 'q'], ['的', 'u'], ['利息', 'n'], ['”', 'w'], ['。', 'w'], ['可', 'v'], ['事后', 't'], ['，', 'w'], ['王某', 'np'], ['发现', 'v'], ['，', 'w'], ['他', 'r'], ['买', 'v'], ['的', 'u'], ['根本', 'd'], ['不', 'd'], ['是', 'v'], ['中国银行', 'ni'], ['的', 'u'], ['产品', 'n'], ['，', 'w'], ['而是', 'c'], ['一', 'm'], ['分', 'q'], ['阳光', 'n'], ['人寿保险', 'n'], ['公司', 'n'], ['的', 'u'], ['商业', 'n'], ['保险', 'n'], ['。', 'w'], ['按照', 'p'], ['保险', 'n'], ['合同', 'n'], ['，', 'w'], ['他', 'r'], ['要', 'v'], ['活', 'v'], ['到', 'v'], ['100', 'm'], ['周岁', 't'], ['才', 'd'], ['能', 'v'], ['取回', 'v'], ['本金', 'n'], ['。', 'w'], ['发现', 'v'], ['被', 'p'], ['骗', 'v'], ['后', 'f'], ['，', 'w'], ['王某', 'np'], ['登', 'v'], ['上', 'v'], ['保险', 'n'], ['公司', 'n'], ['和', 'c'], ['银行', 'n'], ['楼顶', 'n'], ['以', 'p'], ['命维权', 'n'], ['。', 'w'], ['最终', 'd'], ['，', 'w'], ['银行', 'n'], ['和', 'c'], ['保险', 'n'], ['公司', 'n'], ['心', 'n'], ['不', 'd'], ['甘情', 'v'], ['不', 'd'], ['愿', 'v'], ['地', 'u'], ['作出', 'v'], ['妥协', 'v'], ['，', 'w'], ['由', 'p'], ['保险', 'n'], ['公司', 'n'], ['返还', 'v'], ['500万', 'm'], ['元', 'q'], ['本金', 'n'], ['和', 'c'], ['27', 'm'], ['.', 'w'], ['5万', 'm'], ['元', 'q'], ['利息', 'n'], ['。', 'w'], ['但', 'c'], ['要求', 'v'], ['王某', 'np'], ['撤回', 'v'], ['对', 'p'], ['银行', 'n'], ['、', 'w'], ['保险', 'n'], ['公司', 'n'], ['的', 'u'], ['投诉', 'v'], ['。', 'w'], ['银行', 'n'], ['负责人', 'n'], ['还', 'd'], ['很', 'd'], ['不', 'd'], ['服', 'v'], ['，', 'w'], ['向', 'p'], ['媒体', 'n'], ['表示', 'v'], ['：', 'w'], ['王某', 'np'], ['“', 'w'], ['以', 'p'], ['命', 'n'], ['维权', 'n'], ['”', 'w'], ['的', 'u'], ['方式', 'n'], ['是', 'v'], ['在', 'p'], ['诈骗', 'v'], ['。', 'w'], ['类似', 'a'], ['的', 'u'], ['事情', 'n'], ['还有', 'v'], ['很多', 'm'], ['——', 'w'], ['银行', 'n'], ['里', 'f'], ['的', 'u'], ['业务', 'n'], ['人员', 'n'], ['利用', 'v'], ['模糊', 'a'], ['的', 'u'], ['语言', 'n'], ['，', 'w'], ['暗示', 'v'], ['其', 'r'], ['销售', 'v'], ['的', 'u'], ['保险', 'n'], ['产品', 'n'], ['和', 'c'], ['银行', 'n'], ['普通', 'a'], ['理财', 'v'], ['产品', 'n'], ['相同', 'a'], ['，', 'w'], ['可以', 'v'], ['随时', 'd'], ['支取', 'v'], ['，', 'w'], ['并且', 'c'], ['隐瞒', 'v'], ['提前', 'v'], ['支取', 'v'], ['所', 'u'], ['需', 'v'], ['承担', 'v'], ['的', 'u'], ['责任', 'n'], ['和', 'c'], ['损失', 'n'], ['。', 'w'], ['2009年', 't'], ['，', 'w'], ['邯郸市', 'ns'], ['赵', 'np'], ['先生', 'n'], ['在', 'p'], ['工商', 'n'], ['银行', 'n'], ['某', 'r'], ['营业', 'v'], ['网点', 'n'], ['办理', 'v'], ['定期', 'a'], ['存款', 'n'], ['，', 'w'], ['直到', 'v'], ['一', 'm'], ['年', 'q'], ['后', 'f'], ['才', 'd'], ['知道', 'v'], ['，', 'w'], ['当时', 't'], ['的', 'u'], ['存款', 'n'], ['居然', 'd'], ['是', 'v'], ['以', 'p'], ['保险', 'n'], ['的', 'u'], ['名义', 'n'], ['办理', 'v'], ['的', 'u'], ['，', 'w'], ['每年', 'r'], ['都', 'd'], ['需要', 'v'], ['交', 'v'], ['3000', 'm'], ['，', 'w'], ['还', 'd'], ['必须', 'd'], ['存够', 'v'], ['10', 'm'], ['年', 'q'], ['。', 'w'], ['若', 'c'], ['中途', 'd'], ['退保', 'v'], ['取', 'v'], ['钱', 'n'], ['，', 'w'], ['将', 'd'], ['遭受', 'v'], ['较', 'd'], ['大', 'a'], ['损失', 'n'], ['，', 'w'], ['连', 'u'], ['本金', 'n'], ['都', 'd'], ['保', 'v'], ['不', 'd'], ['住', 'v'], ['。', 'w']]\n"
     ]
    }
   ],
   "source": [
    "lemmas = thulac.thulac().cut(text.replace('\\n', ''), text=False)  #进行一句话分词\n",
    "print(lemmas)"
   ]
  },
  {
   "cell_type": "code",
   "execution_count": null,
   "metadata": {},
   "outputs": [],
   "source": []
  }
 ],
 "metadata": {
  "kernelspec": {
   "display_name": "Python 3",
   "language": "python",
   "name": "python3"
  },
  "language_info": {
   "codemirror_mode": {
    "name": "ipython",
    "version": 3
   },
   "file_extension": ".py",
   "mimetype": "text/x-python",
   "name": "python",
   "nbconvert_exporter": "python",
   "pygments_lexer": "ipython3",
   "version": "3.6.2"
  }
 },
 "nbformat": 4,
 "nbformat_minor": 2
}
