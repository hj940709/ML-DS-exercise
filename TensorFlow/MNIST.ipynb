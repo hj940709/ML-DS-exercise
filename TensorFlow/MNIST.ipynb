{
 "cells": [
  {
   "cell_type": "code",
   "execution_count": 2,
   "metadata": {},
   "outputs": [],
   "source": [
    "import tensorflow as tf\n",
    "from sklearn.datasets import load_digits\n",
    "import numpy as np\n",
    "from sklearn.preprocessing import OneHotEncoder"
   ]
  },
  {
   "cell_type": "code",
   "execution_count": 6,
   "metadata": {},
   "outputs": [
    {
     "name": "stdout",
     "output_type": "stream",
     "text": [
      "(1797, 8, 8, 1)\n",
      "(1797, 10)\n"
     ]
    }
   ],
   "source": [
    "digits = load_digits()\n",
    "X = digits.data.astype(np.float32).reshape(-1,8,8,1)\n",
    "y = digits.target.astype(np.float32).reshape(-1,1)\n",
    "y = OneHotEncoder().fit_transform(y).todense()\n",
    "print(X.shape)\n",
    "print(y.shape)"
   ]
  },
  {
   "cell_type": "code",
   "execution_count": 59,
   "metadata": {},
   "outputs": [],
   "source": [
    "def batchGenerator(X,y,batch_size=64):\n",
    "    i = 0\n",
    "    while True:\n",
    "        yield X[i*batch_size:(i+1)*batch_size],y[i*batch_size:(i+1)*batch_size]\n",
    "        i += 1\n",
    "        if i>= X.shape[0]//batch_size:\n",
    "            i=0"
   ]
  },
  {
   "cell_type": "code",
   "execution_count": 60,
   "metadata": {},
   "outputs": [],
   "source": [
    "batch_generator = batchGenerator(X,y)"
   ]
  },
  {
   "cell_type": "code",
   "execution_count": 32,
   "metadata": {},
   "outputs": [],
   "source": [
    "tf.reset_default_graph()\n",
    "# Input laye\n",
    "x_ = tf.placeholder(tf.float32,[None,8,8,1])\n",
    "y_ = tf.placeholder(tf.float32,[None,10])"
   ]
  },
  {
   "cell_type": "code",
   "execution_count": 33,
   "metadata": {},
   "outputs": [],
   "source": [
    "filter_number = 10\n",
    "filter_size = [3,3,1]\n",
    "conv_filter_w1 = tf.Variable(tf.random_normal([filter_size[0], filter_size[1], filter_size[2], filter_number]))\n",
    "conv_filter_b1 = tf.Variable(tf.random_normal([filter_number]))\n",
    "conv_act1 = tf.nn.relu(tf.nn.conv2d(x_, conv_filter_w1,strides=[1, 1, 1, 1], padding='SAME') + conv_filter_b1)"
   ]
  },
  {
   "cell_type": "code",
   "execution_count": 34,
   "metadata": {},
   "outputs": [],
   "source": [
    "max_pool1 = tf.nn.max_pool(conv_act1,ksize=[1,2,2,1],strides=[1,1,1,1],padding=\"SAME\")"
   ]
  },
  {
   "cell_type": "code",
   "execution_count": 35,
   "metadata": {},
   "outputs": [],
   "source": [
    "filter_number = 5\n",
    "filter_size = [3,3,10]\n",
    "conv_filter_w2 = tf.Variable(tf.random_normal([filter_size[0], filter_size[1], filter_size[2], filter_number]))\n",
    "conv_filter_b2 = tf.Variable(tf.random_normal([filter_number]))\n",
    "conv_act2 = tf.nn.relu(tf.nn.conv2d(max_pool1, conv_filter_w2,strides=[1, 2, 2, 1], padding='SAME') + conv_filter_b2)"
   ]
  },
  {
   "cell_type": "code",
   "execution_count": 36,
   "metadata": {},
   "outputs": [],
   "source": [
    "batch_mean, batch_var = tf.nn.moments(conv_act2, [0, 1, 2], keep_dims=True)\n",
    "BN_out = tf.nn.batch_normalization(conv_act2,\n",
    "                                   batch_mean,\n",
    "                                   batch_var,\n",
    "                                   tf.Variable(tf.zeros([5])),\n",
    "                                   tf.Variable(tf.ones([5])),1e-3)"
   ]
  },
  {
   "cell_type": "code",
   "execution_count": 37,
   "metadata": {},
   "outputs": [],
   "source": [
    "conv_act2 = tf.nn.relu(BN_out)"
   ]
  },
  {
   "cell_type": "code",
   "execution_count": 38,
   "metadata": {},
   "outputs": [],
   "source": [
    "max_pool2 = tf.nn.max_pool(conv_act2,ksize=[1,2,2,1],strides=[1,1,1,1],padding=\"SAME\")"
   ]
  },
  {
   "cell_type": "code",
   "execution_count": 40,
   "metadata": {},
   "outputs": [],
   "source": [
    "flat = tf.reshape(max_pool2, [-1, int(max_pool2.shape[1]*max_pool2.shape[2]*max_pool2.shape[3])])"
   ]
  },
  {
   "cell_type": "code",
   "execution_count": 41,
   "metadata": {},
   "outputs": [
    {
     "data": {
      "text/plain": [
       "TensorShape([Dimension(None), Dimension(80)])"
      ]
     },
     "execution_count": 41,
     "metadata": {},
     "output_type": "execute_result"
    }
   ],
   "source": [
    "flat.shape"
   ]
  },
  {
   "cell_type": "code",
   "execution_count": 42,
   "metadata": {},
   "outputs": [],
   "source": [
    "num_node = 512\n",
    "w1 = tf.Variable(tf.random_normal([int(flat.shape[1]),num_node]))\n",
    "b1 = tf.Variable(tf.random_normal([num_node]))\n",
    "h1 = tf.nn.relu(tf.matmul(flat, w1) + b1)"
   ]
  },
  {
   "cell_type": "code",
   "execution_count": 45,
   "metadata": {},
   "outputs": [],
   "source": [
    "num_node = 128\n",
    "w2 = tf.Variable(tf.random_normal([int(h1.shape[1]),num_node]))\n",
    "b2 = tf.Variable(tf.random_normal([num_node]))\n",
    "h2 = tf.nn.relu(tf.matmul(h1, w2) + b2)"
   ]
  },
  {
   "cell_type": "code",
   "execution_count": 50,
   "metadata": {},
   "outputs": [],
   "source": [
    "out_w1 = tf.Variable(tf.random_normal([num_node,y.shape[1]]))\n",
    "out_b1 = tf.Variable(tf.random_normal([y.shape[1]]))\n",
    "pred = tf.nn.softmax(tf.matmul(h2,out_w1)+out_b1)"
   ]
  },
  {
   "cell_type": "code",
   "execution_count": 67,
   "metadata": {},
   "outputs": [],
   "source": [
    "loss = tf.contrib.keras.losses.categorical_crossentropy(y_,pred)"
   ]
  },
  {
   "cell_type": "code",
   "execution_count": 62,
   "metadata": {},
   "outputs": [],
   "source": [
    "train_step = tf.train.AdamOptimizer(1e-2).minimize(loss)"
   ]
  },
  {
   "cell_type": "code",
   "execution_count": 54,
   "metadata": {},
   "outputs": [],
   "source": [
    "accuracy = tf.reduce_mean(tf.cast(tf.equal(tf.argmax(y_,1),tf.argmax(pred,1)),tf.float32))"
   ]
  },
  {
   "cell_type": "code",
   "execution_count": 68,
   "metadata": {},
   "outputs": [],
   "source": [
    "sess = tf.Session()\n",
    "sess.run(tf.global_variables_initializer())"
   ]
  },
  {
   "cell_type": "code",
   "execution_count": 69,
   "metadata": {},
   "outputs": [
    {
     "name": "stdout",
     "output_type": "stream",
     "text": [
      "0 0.140625\n",
      "100 0.078125\n",
      "200 0.109375\n",
      "300 0.078125\n",
      "400 0.140625\n",
      "500 0.125\n",
      "600 0.140625\n",
      "700 0.140625\n",
      "800 0.078125\n",
      "900 0.109375\n"
     ]
    }
   ],
   "source": [
    "epoch = 1000\n",
    "for i in range(epoch): # 迭代1000个周期\n",
    "    batch_x,batch_y = batch_generator.__next__()\n",
    "    sess.run(train_step,feed_dict={x_:batch_x,y_:batch_y})\n",
    "    if(i%100==0):\n",
    "        res = sess.run(accuracy,feed_dict={x_:batch_x,y_:batch_y})\n",
    "        print (i,res)\n"
   ]
  },
  {
   "cell_type": "code",
   "execution_count": 73,
   "metadata": {},
   "outputs": [
    {
     "data": {
      "text/plain": [
       "array([[ 0.,  0.,  0.,  1.,  0.,  0.,  0.,  0.,  0.,  0.],\n",
       "       [ 0.,  0.,  0.,  1.,  0.,  0.,  0.,  0.,  0.,  0.],\n",
       "       [ 0.,  0.,  0.,  1.,  0.,  0.,  0.,  0.,  0.,  0.],\n",
       "       [ 0.,  0.,  0.,  1.,  0.,  0.,  0.,  0.,  0.,  0.],\n",
       "       [ 0.,  0.,  0.,  1.,  0.,  0.,  0.,  0.,  0.,  0.],\n",
       "       [ 0.,  0.,  0.,  1.,  0.,  0.,  0.,  0.,  0.,  0.],\n",
       "       [ 0.,  0.,  0.,  1.,  0.,  0.,  0.,  0.,  0.,  0.],\n",
       "       [ 0.,  0.,  0.,  1.,  0.,  0.,  0.,  0.,  0.,  0.],\n",
       "       [ 0.,  0.,  0.,  1.,  0.,  0.,  0.,  0.,  0.,  0.],\n",
       "       [ 0.,  0.,  0.,  1.,  0.,  0.,  0.,  0.,  0.,  0.],\n",
       "       [ 0.,  0.,  0.,  1.,  0.,  0.,  0.,  0.,  0.,  0.],\n",
       "       [ 0.,  0.,  0.,  1.,  0.,  0.,  0.,  0.,  0.,  0.],\n",
       "       [ 0.,  0.,  0.,  1.,  0.,  0.,  0.,  0.,  0.,  0.],\n",
       "       [ 0.,  0.,  0.,  1.,  0.,  0.,  0.,  0.,  0.,  0.],\n",
       "       [ 0.,  0.,  0.,  1.,  0.,  0.,  0.,  0.,  0.,  0.]], dtype=float32)"
      ]
     },
     "execution_count": 73,
     "metadata": {},
     "output_type": "execute_result"
    }
   ],
   "source": [
    "sess.run(pred,feed_dict={x_:X[0:15]})"
   ]
  },
  {
   "cell_type": "code",
   "execution_count": 74,
   "metadata": {},
   "outputs": [
    {
     "data": {
      "text/plain": [
       "matrix([[ 1.,  0.,  0., ...,  0.,  0.,  0.],\n",
       "        [ 0.,  1.,  0., ...,  0.,  0.,  0.],\n",
       "        [ 0.,  0.,  1., ...,  0.,  0.,  0.],\n",
       "        ..., \n",
       "        [ 0.,  0.,  0., ...,  0.,  1.,  0.],\n",
       "        [ 0.,  0.,  0., ...,  0.,  0.,  1.],\n",
       "        [ 0.,  0.,  0., ...,  0.,  1.,  0.]])"
      ]
     },
     "execution_count": 74,
     "metadata": {},
     "output_type": "execute_result"
    }
   ],
   "source": [
    "y"
   ]
  },
  {
   "cell_type": "code",
   "execution_count": null,
   "metadata": {},
   "outputs": [],
   "source": []
  }
 ],
 "metadata": {
  "kernelspec": {
   "display_name": "Python 3",
   "language": "python",
   "name": "python3"
  },
  "language_info": {
   "codemirror_mode": {
    "name": "ipython",
    "version": 3
   },
   "file_extension": ".py",
   "mimetype": "text/x-python",
   "name": "python",
   "nbconvert_exporter": "python",
   "pygments_lexer": "ipython3",
   "version": "3.6.2"
  }
 },
 "nbformat": 4,
 "nbformat_minor": 2
}
