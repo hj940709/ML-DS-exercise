{
 "cells": [
  {
   "cell_type": "code",
   "execution_count": 55,
   "metadata": {},
   "outputs": [],
   "source": [
    "import tensorflow as tf\n",
    "import numpy as np\n"
   ]
  },
  {
   "cell_type": "code",
   "execution_count": 2,
   "metadata": {},
   "outputs": [
    {
     "name": "stdout",
     "output_type": "stream",
     "text": [
      "(1797, 8, 8, 1)\n",
      "(1797, 10)\n"
     ]
    }
   ],
   "source": [
    "from sklearn.datasets import load_digits\n",
    "from sklearn.preprocessing import OneHotEncoder\n",
    "digits = load_digits()\n",
    "X = digits.data.astype(np.float32).reshape(-1,8,8,1)\n",
    "y = digits.target.astype(np.float32).reshape(-1,1)\n",
    "y = OneHotEncoder().fit_transform(y).todense()\n",
    "print(X.shape)\n",
    "print(y.shape)"
   ]
  },
  {
   "cell_type": "code",
   "execution_count": 3,
   "metadata": {},
   "outputs": [],
   "source": [
    "def batchGenerator(X,y,batch_size=64):\n",
    "    i = 0\n",
    "    while True:\n",
    "        yield X[i*batch_size:(i+1)*batch_size],y[i*batch_size:(i+1)*batch_size]\n",
    "        i += 1\n",
    "        if i>= X.shape[0]//batch_size:\n",
    "            i=0"
   ]
  },
  {
   "cell_type": "code",
   "execution_count": 4,
   "metadata": {},
   "outputs": [],
   "source": [
    "def weight_variable(shape):\n",
    "    initial = tf.truncated_normal(shape, stddev=0.1)\n",
    "    return tf.Variable(initial)\n",
    "\n",
    "def bias_variable(shape):\n",
    "    initial = tf.constant(0.1, shape=shape)\n",
    "    return tf.Variable(initial)"
   ]
  },
  {
   "cell_type": "code",
   "execution_count": 5,
   "metadata": {},
   "outputs": [],
   "source": [
    "def conv2d(x, W):\n",
    "    return tf.nn.conv2d(x, W, strides=[1, 1, 1, 1], padding='SAME')\n",
    "\n",
    "def max_pool_2x2(x):\n",
    "    return tf.nn.max_pool(x, ksize=[1, 2, 2, 1], strides=[1, 2, 2, 1], padding='SAME')"
   ]
  },
  {
   "cell_type": "code",
   "execution_count": 7,
   "metadata": {},
   "outputs": [],
   "source": [
    "tf.reset_default_graph()\n",
    "# Input laye\n",
    "x_ = tf.placeholder(tf.float32,[None,8,8,1])\n",
    "y_ = tf.placeholder(tf.float32,[None,10])"
   ]
  },
  {
   "cell_type": "code",
   "execution_count": 8,
   "metadata": {},
   "outputs": [],
   "source": [
    "#size of filter(height,width), input channel, output channel\n",
    "conv_w1 = weight_variable([3, 3, 1, 32])\n",
    "conv_b1 = bias_variable([32])\n",
    "conv1 = tf.nn.relu(conv2d(x_, conv_w1) + conv_b1)\n",
    "conv_w2 = weight_variable([3, 3, 32, 64])\n",
    "conv_b2 = bias_variable([64])\n",
    "conv2 = tf.nn.relu(conv2d(conv1, conv_w2) + conv_b2)"
   ]
  },
  {
   "cell_type": "code",
   "execution_count": 9,
   "metadata": {},
   "outputs": [],
   "source": [
    "max1 = max_pool_2x2(conv2)"
   ]
  },
  {
   "cell_type": "code",
   "execution_count": 10,
   "metadata": {},
   "outputs": [],
   "source": [
    "drop1 = tf.nn.dropout(max1, 0.25)"
   ]
  },
  {
   "cell_type": "code",
   "execution_count": 11,
   "metadata": {},
   "outputs": [],
   "source": [
    "batch_mean, batch_var = tf.nn.moments(drop1, [0, 1, 2], keep_dims=True)\n",
    "bn1 = tf.nn.batch_normalization(drop1,batch_mean,\n",
    "                                   batch_var,\n",
    "                                   tf.Variable(tf.zeros([64])),\n",
    "                                   tf.Variable(tf.ones([64])),1e-3)"
   ]
  },
  {
   "cell_type": "code",
   "execution_count": 12,
   "metadata": {},
   "outputs": [],
   "source": [
    "flat = tf.reshape(bn1, [-1, int(bn1.shape[1]*bn1.shape[2]*bn1.shape[3])])"
   ]
  },
  {
   "cell_type": "code",
   "execution_count": 13,
   "metadata": {},
   "outputs": [],
   "source": [
    "w1 = weight_variable([int(flat.shape[1]), 256])\n",
    "b1 = bias_variable([256])\n",
    "\n",
    "h1 =tf.nn.relu(tf.matmul(flat, w1) + b1)"
   ]
  },
  {
   "cell_type": "code",
   "execution_count": 14,
   "metadata": {},
   "outputs": [],
   "source": [
    "drop2 = tf.nn.dropout(h1, 0.4)"
   ]
  },
  {
   "cell_type": "code",
   "execution_count": 16,
   "metadata": {},
   "outputs": [],
   "source": [
    "batch_mean, batch_var = tf.nn.moments(drop2, [0], keep_dims=True)\n",
    "bn2 = tf.nn.batch_normalization(drop2,batch_mean,\n",
    "                                   batch_var,\n",
    "                                   tf.Variable(tf.zeros([256])),\n",
    "                                   tf.Variable(tf.ones([256])),1e-3)"
   ]
  },
  {
   "cell_type": "code",
   "execution_count": 17,
   "metadata": {},
   "outputs": [],
   "source": [
    "out_w1 = tf.Variable(tf.random_normal([int(bn2.shape[1]),y.shape[1]]))\n",
    "out_b1 = tf.Variable(tf.random_normal([y.shape[1]]))\n",
    "pred = tf.nn.softmax(tf.matmul(bn2,out_w1)+out_b1)"
   ]
  },
  {
   "cell_type": "code",
   "execution_count": 21,
   "metadata": {},
   "outputs": [],
   "source": [
    "loss = tf.reduce_mean(tf.nn.softmax_cross_entropy_with_logits(labels=y_, logits=pred))"
   ]
  },
  {
   "cell_type": "code",
   "execution_count": 22,
   "metadata": {},
   "outputs": [],
   "source": [
    "train_step = tf.train.AdamOptimizer().minimize(loss)"
   ]
  },
  {
   "cell_type": "code",
   "execution_count": 23,
   "metadata": {},
   "outputs": [],
   "source": [
    "accuracy = tf.reduce_mean(tf.cast(tf.equal(tf.argmax(y_,1),tf.argmax(pred,1)),tf.float32))"
   ]
  },
  {
   "cell_type": "code",
   "execution_count": 58,
   "metadata": {},
   "outputs": [],
   "source": [
    "sess = tf.Session()\n",
    "sess.run(tf.global_variables_initializer())"
   ]
  },
  {
   "cell_type": "code",
   "execution_count": 59,
   "metadata": {},
   "outputs": [
    {
     "name": "stdout",
     "output_type": "stream",
     "text": [
      "0 0.0625\n",
      "1 0.09375\n",
      "2 0.140625\n",
      "3 0.234375\n",
      "4 0.28125\n",
      "5 0.34375\n",
      "6 0.390625\n",
      "7 0.484375\n",
      "8 0.484375\n",
      "9 0.53125\n",
      "10 0.546875\n",
      "11 0.59375\n",
      "12 0.640625\n",
      "13 0.703125\n",
      "14 0.609375\n",
      "15 0.671875\n",
      "16 0.65625\n",
      "17 0.71875\n",
      "18 0.8125\n",
      "19 0.859375\n",
      "20 0.78125\n",
      "21 0.84375\n",
      "22 0.828125\n",
      "23 0.859375\n",
      "24 0.78125\n",
      "25 0.828125\n",
      "26 0.765625\n",
      "27 0.765625\n",
      "28 0.859375\n",
      "29 0.890625\n",
      "30 0.890625\n",
      "31 0.875\n",
      "32 0.90625\n",
      "33 0.921875\n",
      "34 0.953125\n",
      "35 0.90625\n",
      "36 0.84375\n",
      "37 0.859375\n",
      "38 0.90625\n",
      "39 0.796875\n",
      "40 0.875\n",
      "41 0.859375\n",
      "42 0.8125\n",
      "43 0.90625\n",
      "44 0.953125\n",
      "45 0.953125\n",
      "46 0.9375\n",
      "47 0.984375\n",
      "48 0.890625\n",
      "49 0.953125\n",
      "50 0.890625\n",
      "51 0.9375\n",
      "52 0.8125\n",
      "53 0.875\n",
      "54 0.921875\n",
      "55 0.953125\n",
      "56 0.90625\n",
      "57 0.984375\n",
      "58 0.9375\n",
      "59 0.984375\n",
      "60 0.953125\n",
      "61 0.875\n",
      "62 0.953125\n",
      "63 0.921875\n",
      "64 0.875\n",
      "65 0.90625\n",
      "66 0.90625\n",
      "67 0.875\n",
      "68 0.875\n",
      "69 0.9375\n",
      "70 0.921875\n",
      "71 0.921875\n",
      "72 0.984375\n",
      "73 0.9375\n",
      "74 0.96875\n",
      "75 0.984375\n",
      "76 0.9375\n",
      "77 0.984375\n",
      "78 0.9375\n",
      "79 0.953125\n",
      "80 0.984375\n",
      "81 0.90625\n",
      "82 0.953125\n",
      "83 0.9375\n",
      "84 0.96875\n",
      "85 0.9375\n",
      "86 0.953125\n",
      "87 0.953125\n",
      "88 0.984375\n",
      "89 0.96875\n",
      "90 0.96875\n",
      "91 0.953125\n",
      "92 0.9375\n",
      "93 1.0\n",
      "94 0.96875\n",
      "95 0.921875\n",
      "96 0.96875\n",
      "97 1.0\n",
      "98 0.96875\n",
      "99 0.984375\n"
     ]
    }
   ],
   "source": [
    "epoch = 100\n",
    "batch = 64\n",
    "batch_generator = batchGenerator(X,y,batch)\n",
    "for i in range(epoch*(X.shape[0]//batch+1)): # 迭代1000个周期\n",
    "    batch_x,batch_y = batch_generator.__next__()\n",
    "    sess.run(train_step,feed_dict={x_:batch_x,y_:batch_y})\n",
    "    if(i%(X.shape[0]//batch+1)==0):\n",
    "        batch_x,batch_y = batch_generator.__next__()\n",
    "        res = sess.run(accuracy,feed_dict={x_:batch_x,y_:batch_y})\n",
    "        print (i//(X.shape[0]//batch+1),res)\n"
   ]
  },
  {
   "cell_type": "code",
   "execution_count": 60,
   "metadata": {},
   "outputs": [
    {
     "data": {
      "text/plain": [
       "array([  1.00000000e+00,   0.00000000e+00,   0.00000000e+00,\n",
       "         0.00000000e+00,   0.00000000e+00,   5.40643824e-32,\n",
       "         1.82045735e-28,   0.00000000e+00,   0.00000000e+00,\n",
       "         1.06261785e-34], dtype=float32)"
      ]
     },
     "execution_count": 60,
     "metadata": {},
     "output_type": "execute_result"
    }
   ],
   "source": [
    "sess.run(pred,feed_dict={x_:X[0:4]})[0]"
   ]
  },
  {
   "cell_type": "code",
   "execution_count": 52,
   "metadata": {},
   "outputs": [
    {
     "ename": "NameError",
     "evalue": "name 'ProgressBar' is not defined",
     "output_type": "error",
     "traceback": [
      "\u001b[0;31m---------------------------------------------------------------------------\u001b[0m",
      "\u001b[0;31mNameError\u001b[0m                                 Traceback (most recent call last)",
      "\u001b[0;32m<ipython-input-52-de55bc9bfa82>\u001b[0m in \u001b[0;36m<module>\u001b[0;34m()\u001b[0m\n\u001b[0;32m----> 1\u001b[0;31m \u001b[0mProgressBar\u001b[0m\u001b[0;34m(\u001b[0m\u001b[0;34m)\u001b[0m\u001b[0;34m\u001b[0m\u001b[0m\n\u001b[0m",
      "\u001b[0;31mNameError\u001b[0m: name 'ProgressBar' is not defined"
     ]
    }
   ],
   "source": []
  },
  {
   "cell_type": "code",
   "execution_count": 49,
   "metadata": {},
   "outputs": [
    {
     "data": {
      "text/plain": [
       "matrix([[ 1.,  0.,  0.,  0.,  0.,  0.,  0.,  0.,  0.,  0.]])"
      ]
     },
     "execution_count": 49,
     "metadata": {},
     "output_type": "execute_result"
    }
   ],
   "source": [
    "y[0]"
   ]
  },
  {
   "cell_type": "code",
   "execution_count": null,
   "metadata": {},
   "outputs": [],
   "source": [
    "%matplotlib inline\n",
    "\n",
    "from keras.models import Sequential\n",
    "from keras.layers import *\n",
    "from keras.optimizers import *\n",
    "from keras.layers.convolutional import Conv2D\n",
    "from keras.utils import np_utils\n",
    "import matplotlib.pyplot as plt\n",
    "import numpy as np"
   ]
  },
  {
   "cell_type": "code",
   "execution_count": null,
   "metadata": {},
   "outputs": [],
   "source": [
    "plt.imshow(X[1].reshape(8,8), cmap='Greys', interpolation='none')"
   ]
  },
  {
   "cell_type": "code",
   "execution_count": null,
   "metadata": {},
   "outputs": [],
   "source": [
    "K.clear_session()\n",
    "model = Sequential()\n",
    "\n",
    "# Add model here\n",
    "model.add(Conv2D(32,(3, 3), input_shape=X.shape[1:],activation=\"relu\"))\n",
    "model.add(Conv2D(64, (3, 3), activation='relu'))\n",
    "model.add(MaxPooling2D((2, 2)))\n",
    "model.add(Dropout(0.25))\n",
    "model.add(BatchNormalization())\n",
    "model.add(Flatten())\n",
    "model.add(Dense(256, activation=\"relu\"))\n",
    "model.add(Dropout(0.4))\n",
    "model.add(BatchNormalization())\n",
    "model.add(Dense(10,activation=\"softmax\"))\n",
    "\n",
    "# You can also try different optimizers below\n",
    "model.compile(loss='categorical_crossentropy', \n",
    "              optimizer=\"adam\", \n",
    "              metrics=['accuracy'])\n",
    "print(model.summary())"
   ]
  },
  {
   "cell_type": "code",
   "execution_count": null,
   "metadata": {},
   "outputs": [],
   "source": [
    "%%time\n",
    "\n",
    "# Training\n",
    "epochs = 25\n",
    "\n",
    "history = model.fit(X, \n",
    "                    y, \n",
    "                    epochs=epochs, \n",
    "                    batch_size=128,\n",
    "                    verbose=1)"
   ]
  },
  {
   "cell_type": "code",
   "execution_count": null,
   "metadata": {},
   "outputs": [],
   "source": [
    "model.predict(X[0].reshape(1,8,8,1))"
   ]
  },
  {
   "cell_type": "code",
   "execution_count": null,
   "metadata": {},
   "outputs": [],
   "source": []
  }
 ],
 "metadata": {
  "kernelspec": {
   "display_name": "Python 3",
   "language": "python",
   "name": "python3"
  },
  "language_info": {
   "codemirror_mode": {
    "name": "ipython",
    "version": 3
   },
   "file_extension": ".py",
   "mimetype": "text/x-python",
   "name": "python",
   "nbconvert_exporter": "python",
   "pygments_lexer": "ipython3",
   "version": "3.6.2"
  }
 },
 "nbformat": 4,
 "nbformat_minor": 2
}
